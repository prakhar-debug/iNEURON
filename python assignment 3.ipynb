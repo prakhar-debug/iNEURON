{
 "cells": [
  {
   "cell_type": "markdown",
   "metadata": {},
   "source": [
    "# Write a Python Program to implement your own myreduce() function which works exactly like Python's built-in function reduce()"
   ]
  },
  {
   "cell_type": "code",
   "execution_count": 26,
   "metadata": {},
   "outputs": [
    {
     "name": "stdout",
     "output_type": "stream",
     "text": [
      "10\n",
      "prak\n",
      "173\n"
     ]
    }
   ],
   "source": [
    "def myreduce(fun,iterator):\n",
    "    x = 0\n",
    "    a = iterator[0]\n",
    "    for i in range(1,len(iterator)):\n",
    "        b= fun(a,iterator[i])\n",
    "        a=b\n",
    "    return(a)\n",
    "def add1(a,b):\n",
    "    return a+b\n",
    "\n",
    "l=[1,2,3,4]\n",
    "print(myreduce(add1,l))\n",
    "\n",
    "\n",
    "l2=['p','r','a','k']\n",
    "print(myreduce(add1,l2))\n",
    "\n",
    "#USING Lamda fuction \n",
    "\n",
    "l3 = [3,2,2]\n",
    "print(myreduce(lambda x,y:x**2+y**2,l3))\n",
    "\n",
    "\n",
    "    \n",
    "    "
   ]
  },
  {
   "cell_type": "markdown",
   "metadata": {},
   "source": [
    "# Python program to implement your own myfilter() function which works \n",
    "# exactly like Python's built-in function filter()"
   ]
  },
  {
   "cell_type": "code",
   "execution_count": 36,
   "metadata": {},
   "outputs": [
    {
     "name": "stdout",
     "output_type": "stream",
     "text": [
      "[90, 76, 88, 81]\n",
      "['madam', 'anutforajaroftuna']\n"
     ]
    }
   ],
   "source": [
    "def myfilter(fun,iterator1):\n",
    "    a=[]\n",
    "    for i in iterator1:\n",
    "        b = fun(i)\n",
    "        if b==True:\n",
    "            a.append(i)\n",
    "    return a\n",
    "scores = [66, 90, 68, 59, 76, 60, 88, 74, 81, 65]\n",
    "\n",
    "def is_A_student(score):\n",
    "    return score > 75\n",
    "\n",
    "over_75 = (myfilter(is_A_student, scores))\n",
    "print(over_75)\n",
    "\n",
    "\n",
    "\n",
    "dromes = (\"demigod\", \"rewire\", \"madam\", \"freer\", \"anutforajaroftuna\", \"kiosk\")\n",
    "\n",
    "palindromes = list(myfilter(lambda word: word == word[::-1], dromes))\n",
    "\n",
    "print(palindromes)\n",
    "\n",
    "\n",
    "\n"
   ]
  },
  {
   "cell_type": "markdown",
   "metadata": {},
   "source": [
    "# ['x', 'xx', 'xxx', 'xxxx', 'y', 'yy', 'yyy', 'yyyy', 'z', 'zz', 'zzz', 'zzzz']"
   ]
  },
  {
   "cell_type": "code",
   "execution_count": 64,
   "metadata": {},
   "outputs": [
    {
     "name": "stdout",
     "output_type": "stream",
     "text": [
      "The new output of the given list is\n",
      "['x', 'y', 'z', 'xx', 'yy', 'zz', 'xxx', 'yyy', 'zzz']\n"
     ]
    }
   ],
   "source": [
    "a = ['x', 'xx', 'xxx', 'xxxx', 'y', 'yy', 'yyy', 'yyyy', 'z', 'zz', 'zzz', 'zzzz']\n",
    "l1 = []\n",
    "l2 = []\n",
    "l3 = []\n",
    "for i in a:\n",
    "    b = len(i)\n",
    "    if b==1:\n",
    "        l1.append(i)    \n",
    "    elif b==2:\n",
    "        l2.append(i)\n",
    "    elif b==3:\n",
    "        l3.append(i)\n",
    "l1.sort()\n",
    "l2.sort()\n",
    "l3.sort()\n",
    "\n",
    "l4 = l1+l2+l3\n",
    "\n",
    "print(\"The new output of the given list is\",end = '\\n')\n",
    "print(l4)\n",
    "        \n",
    "\n",
    "\n"
   ]
  },
  {
   "cell_type": "code",
   "execution_count": null,
   "metadata": {},
   "outputs": [],
   "source": [
    "\n"
   ]
  },
  {
   "cell_type": "code",
   "execution_count": null,
   "metadata": {},
   "outputs": [],
   "source": []
  }
 ],
 "metadata": {
  "kernelspec": {
   "display_name": "Python 3",
   "language": "python",
   "name": "python3"
  },
  "language_info": {
   "codemirror_mode": {
    "name": "ipython",
    "version": 3
   },
   "file_extension": ".py",
   "mimetype": "text/x-python",
   "name": "python",
   "nbconvert_exporter": "python",
   "pygments_lexer": "ipython3",
   "version": "3.7.3"
  }
 },
 "nbformat": 4,
 "nbformat_minor": 2
}
